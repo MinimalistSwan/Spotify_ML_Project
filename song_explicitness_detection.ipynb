{
 "cells": [
  {
   "cell_type": "markdown",
   "id": "2a817993",
   "metadata": {},
   "source": [
    "# Naive Bayes Classifier for Song Explicitness Detection"
   ]
  },
  {
   "cell_type": "markdown",
   "id": "cf27e0c9",
   "metadata": {},
   "source": [
    "## Importing Libraries"
   ]
  },
  {
   "cell_type": "code",
   "execution_count": null,
   "id": "63ed1296",
   "metadata": {},
   "outputs": [],
   "source": [
    "\n",
    "import pandas as pd\n",
    "from sklearn.model_selection import train_test_split\n",
    "from sklearn.naive_bayes import GaussianNB\n",
    "from sklearn.metrics import accuracy_score, classification_report\n",
    "from sklearn.preprocessing import StandardScaler\n"
   ]
  },
  {
   "cell_type": "markdown",
   "id": "03626bf1",
   "metadata": {},
   "source": [
    "## Loading the Data"
   ]
  },
  {
   "cell_type": "code",
   "execution_count": null,
   "id": "cb2ba7d1",
   "metadata": {},
   "outputs": [],
   "source": [
    "\n",
    "# Load the data\n",
    "file_path = '/mnt/data/file-LjTfiBVd3Yw7OInh8bU8sMdL'\n",
    "songs_df = pd.read_csv(file_path)\n"
   ]
  },
  {
   "cell_type": "markdown",
   "id": "763aa9b6",
   "metadata": {},
   "source": [
    "## Preprocessing and Training the Model"
   ]
  },
  {
   "cell_type": "code",
   "execution_count": null,
   "id": "22b4bdb1",
   "metadata": {},
   "outputs": [],
   "source": [
    "\n",
    "# Set the random seed for reproducibility\n",
    "random_seed = 42\n",
    "\n",
    "# Select the features and target\n",
    "features = ['popularity', 'danceability', 'energy', 'loudness', 'speechiness',\n",
    "            'acousticness', 'instrumentalness', 'liveness', 'valence', 'tempo']\n",
    "target = 'explicit'\n",
    "\n",
    "X = songs_df[features]\n",
    "y = songs_df[target].astype(int)  # Ensure the target is an integer\n",
    "\n",
    "# Split the dataset into a 50:50 training and test set\n",
    "X_train, X_test, y_train, y_test = train_test_split(X, y, test_size=0.5, random_state=random_seed)\n",
    "\n",
    "# Standardize the features\n",
    "scaler = StandardScaler()\n",
    "X_train_scaled = scaler.fit_transform(X_train)\n",
    "X_test_scaled = scaler.transform(X_test)\n",
    "\n",
    "# Initialize the Gaussian Naive Bayes classifier\n",
    "gnb = GaussianNB()\n",
    "\n",
    "# Train the model\n",
    "gnb.fit(X_train_scaled, y_train)\n",
    "\n",
    "# Make predictions on the test set\n",
    "y_pred = gnb.predict(X_test_scaled)\n",
    "\n",
    "# Calculate accuracy and display the classificiation report\n",
    "accuracy = accuracy_score(y_test, y_pred)\n",
    "classification_report_output = classification_report(y_test, y_pred)\n"
   ]
  },
  {
   "cell_type": "markdown",
   "id": "cab48206",
   "metadata": {},
   "source": [
    "## Results"
   ]
  },
  {
   "cell_type": "code",
   "execution_count": null,
   "id": "08fdf3e9",
   "metadata": {},
   "outputs": [],
   "source": [
    "print(f'Accuracy: {accuracy}')\n",
    "print(classification_report_output)"
   ]
  }
 ],
 "metadata": {},
 "nbformat": 4,
 "nbformat_minor": 5
}
